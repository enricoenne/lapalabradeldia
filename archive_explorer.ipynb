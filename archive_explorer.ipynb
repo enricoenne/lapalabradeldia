{
 "cells": [
  {
   "cell_type": "code",
   "execution_count": 1,
   "id": "11e0f80c",
   "metadata": {},
   "outputs": [],
   "source": [
    "import time\n",
    "\n",
    "import pyautogui as pya\n",
    "import pyperclip\n",
    "\n",
    "import pandas as pd"
   ]
  },
  {
   "cell_type": "code",
   "execution_count": 2,
   "id": "a6c7265a",
   "metadata": {},
   "outputs": [],
   "source": [
    "def copy_clipboard():\n",
    "    pya.hotkey('ctrl', 'c')\n",
    "    time.sleep(.01)  # ctrl-c is usually very fast but your program may execute faster\n",
    "    return pyperclip.paste()"
   ]
  },
  {
   "cell_type": "code",
   "execution_count": null,
   "id": "05110951",
   "metadata": {},
   "outputs": [],
   "source": [
    "n_day = 1331\n",
    "\n",
    "solutions_df = pd.DataFrame()\n",
    "\n",
    "solutions_df['day'] = range(1, n_day +1)"
   ]
  },
  {
   "cell_type": "code",
   "execution_count": 4,
   "id": "ebb90d5e",
   "metadata": {},
   "outputs": [],
   "source": [
    "time.sleep(5)\n",
    "\n",
    "for i in range(1, 1332):\n",
    "    # click on the url bar\n",
    "    pya.moveTo(900, 200)\n",
    "    time.sleep(0.1)\n",
    "    pya.click()\n",
    "    time.sleep(0.1)\n",
    "\n",
    "    # go to the page of the ith word\n",
    "    pya.typewrite(f'https://lapalabradeldia.com/archivo/normal/{i}/')\n",
    "    pya.press('enter')\n",
    "    time.sleep(1)\n",
    "\n",
    "    # repeat gatos 6 times\n",
    "    for a in range(6):\n",
    "        pya.typewrite('gatos')\n",
    "        #time.sleep(0.05)\n",
    "        pya.press('enter')\n",
    "\n",
    "    # wait for the correct solution to appear\n",
    "    time.sleep(2.5)\n",
    "\n",
    "    # we are starting too on the left, just to be sure\n",
    "    pya.moveTo(1900, 1040)\n",
    "    pya.mouseDown()\n",
    "    # there is nothing on the right, so it's ok\n",
    "    pya.moveTo(2170, 1040, duration=0.1)\n",
    "    pya.mouseUp()\n",
    "\n",
    "    solution = copy_clipboard()\n",
    "    # we keep only the last five letters, which are our word\n",
    "    solution = solution[-5:]\n",
    "    \n",
    "    solutions_df.loc[solutions_df['day'] == i, 'solution'] = solution"
   ]
  },
  {
   "cell_type": "code",
   "execution_count": 5,
   "id": "94a47dd2",
   "metadata": {},
   "outputs": [
    {
     "name": "stdout",
     "output_type": "stream",
     "text": [
      "       day solution\n",
      "0        1    nieve\n",
      "1        2    hueso\n",
      "2        3    hueso\n",
      "3        4    flujo\n",
      "4        5    disco\n",
      "...    ...      ...\n",
      "1327  1328    barra\n",
      "1328  1329    testa\n",
      "1329  1330    tirón\n",
      "1330  1331    retén\n",
      "1331  1332      NaN\n",
      "\n",
      "[1332 rows x 2 columns]\n"
     ]
    }
   ],
   "source": [
    "print(solutions_df)"
   ]
  },
  {
   "cell_type": "code",
   "execution_count": 9,
   "id": "a85cea0c",
   "metadata": {},
   "outputs": [],
   "source": [
    "solutions_df.to_csv('solutions.csv', index = False)"
   ]
  },
  {
   "cell_type": "code",
   "execution_count": 13,
   "id": "82e1bacc",
   "metadata": {},
   "outputs": [
    {
     "name": "stdout",
     "output_type": "stream",
     "text": [
      "0\n"
     ]
    }
   ],
   "source": [
    "# i grabbed too much from the left, I missed the first letter\n",
    "sol_problems = []\n",
    "\n",
    "\n",
    "for index, row in solutions_df.iterrows():\n",
    "    current_solution = row['solution']\n",
    "    current_day = row['day']\n",
    "    if len(current_solution) != 5:\n",
    "        print(current_day, current_solution)\n",
    "        sol_problems.append(current_day)\n",
    "\n",
    "\n",
    "print(len(sol_problems))"
   ]
  },
  {
   "cell_type": "code",
   "execution_count": null,
   "id": "5039840b",
   "metadata": {},
   "outputs": [],
   "source": [
    "import unicodedata\n",
    "\n",
    "def remove_accents_keep_n(text):\n",
    "    result = []\n",
    "    # this split letters and diacritical mark\n",
    "    for c in unicodedata.normalize('NFD', text):\n",
    "        if unicodedata.category(c) == 'Mn' and c != '\\u0303':  # keep tilde\n",
    "            continue\n",
    "        result.append(c)\n",
    "    return ''.join(result)\n",
    "\n"
   ]
  },
  {
   "cell_type": "code",
   "execution_count": 19,
   "id": "007c8ddd",
   "metadata": {},
   "outputs": [],
   "source": [
    "words = solutions_df['solution']\n",
    "cleaned = [remove_accents_keep_n(w) for w in words]\n",
    "\n",
    "solutions_df['solution'] = cleaned\n",
    "\n",
    "solutions_df.to_csv('solutions.csv', index = False)"
   ]
  }
 ],
 "metadata": {
  "kernelspec": {
   "display_name": "wordle-env",
   "language": "python",
   "name": "python3"
  },
  "language_info": {
   "codemirror_mode": {
    "name": "ipython",
    "version": 3
   },
   "file_extension": ".py",
   "mimetype": "text/x-python",
   "name": "python",
   "nbconvert_exporter": "python",
   "pygments_lexer": "ipython3",
   "version": "3.12.11"
  }
 },
 "nbformat": 4,
 "nbformat_minor": 5
}
